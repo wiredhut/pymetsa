{
 "cells": [
  {
   "cell_type": "markdown",
   "metadata": {},
   "source": [
    "## Conditions Data Download\n",
    "\n",
    "This project allows you to specify a list of locations and data attributes to download in a CSV format from the AerisWeather [`conditions endpoint`](https://www.aerisweather.com/support/docs/api/reference/endpoints/conditions/). Your output will look something like this:\n",
    "\n",
    "| &nbsp; | place.name | place.country | periods.tempF | periods.feelslikeF | periods.humidity |\n",
    "| ------ | ------ | ------ | ------ | ------ | ------ |\n",
    "| 0 | minneapolis | us | 79.71 | 79.71 | 83 |\n",
    "| 1 | portland | us | 73.51 | 73.51 | 64 |\n",
    "| 2 | idaho springs | us | 77.71 | 77.71 | 33 |\n",
    "| 3 | berkley | gb | 71.13 | 71.13 | 62 |\n",
    "\n",
    "\n",
    "### Getting Started\n",
    "\n",
    "Before you begin, you will need to configure your AerisWeather client id / secret, locations, and data attributes (`request_fields`). You can omit the `request_fields` list which will return all data attributes."
   ]
  },
  {
   "cell_type": "code",
   "execution_count": 17,
   "metadata": {},
   "outputs": [],
   "source": [
    "import os\n",
    "\n",
    "client_id = os.getenv('AERIS_CLIENT_ID')\n",
    "client_secret = os.getenv('AERIS_CLIENT_SECRET')\n",
    "\n",
    "request_fields = [\n",
    "    'place.name',\n",
    "    'place.country',\n",
    "    'periods.tempF',\n",
    "    'periods.feelslikeF',\n",
    "    'periods.humidity',\n",
    "]\n",
    "\n",
    "location_list = [\n",
    "    \"fi\",\n",
    "    \"helsinki, fi\"\n",
    "]"
   ]
  },
  {
   "cell_type": "markdown",
   "metadata": {},
   "source": [
    "#### Fields\n",
    "\n",
    "The `request_fields` list will follow the same dot notation outlined in the fields parameter section of our [Reducing Output](https://www.aerisweather.com/support/docs/api/getting-started/reducing-output/) documentation\n",
    "\n",
    "#### Locations\n",
    "\n",
    "You can provide any [location format that is supported](https://www.aerisweather.com/support/docs/api/reference/places/) by the AerisWeather API."
   ]
  },
  {
   "cell_type": "markdown",
   "metadata": {},
   "source": [
    "## Import Libraries"
   ]
  },
  {
   "cell_type": "code",
   "execution_count": 18,
   "metadata": {},
   "outputs": [],
   "source": [
    "import json\n",
    "from requests import request\n",
    "from pathlib import Path\n",
    "from typing import List\n",
    "\n",
    "import pandas as pd\n",
    "\n",
    "# sample url for current conditions\n",
    "# http://api.aerisapi.com/conditions/55343?client_id=[CLIENT_ID]&client_secret=[CLIENT_SECRET]"
   ]
  },
  {
   "cell_type": "markdown",
   "metadata": {},
   "source": [
    "## Aeris DataFrame and Looping Locations\n",
    "\n",
    "The function below will be used to return a single [DataFrame](https://pandas.pydata.org/docs/reference/api/pandas.DataFrame.html) after passing a location and requested data attributes."
   ]
  },
  {
   "cell_type": "code",
   "execution_count": 19,
   "metadata": {},
   "outputs": [],
   "source": [
    "def aeris_api_dataframe(location: str, custom_fields: List[str] = None):\n",
    "    formatted_fields = []\n",
    "    if custom_fields is not None:\n",
    "        formatted_fields = ','.join(custom_fields)\n",
    "\n",
    "    print(f\"retrieving data for {location}...\")\n",
    "    res = request(\n",
    "        method=\"GET\",\n",
    "        url=f\"https://api.aerisapi.com/conditions/{location}\",\n",
    "        params={\n",
    "            \"client_id\": client_id,\n",
    "            \"client_secret\": client_secret,\n",
    "            \"fields\": formatted_fields,\n",
    "        }\n",
    "    )\n",
    "    \n",
    "    if res.status_code != 200:\n",
    "        raise Exception(f\"status code was not 200: {res.status_code}\")\n",
    "    \n",
    "    api_response_body = json.loads(res.text)\n",
    "\n",
    "    try:\n",
    "        df_pre_period = pd.json_normalize(api_response_body['response'][0]).drop(\"periods\", axis=1)\n",
    "        df_periods = pd.json_normalize(api_response_body['response'][0], \"periods\", record_prefix=\"periods.\")\n",
    "\n",
    "        return df_pre_period.join(df_periods, how=\"cross\")\n",
    "    except IndexError:\n",
    "        print(f\"API Response did not contain periods. Verify request parameters are correct.\\n\\nRequest:\\n{res.url}\\n\\nResponse:\\n{api_response_body}\")\n",
    "\n",
    "def locations_loop(locations: List):\n",
    "    all_locs = []\n",
    "\n",
    "    for loc in locations:\n",
    "        all_locs.append(aeris_api_dataframe(location=loc, custom_fields=request_fields))\n",
    "\n",
    "    return pd.concat(all_locs, ignore_index=True)"
   ]
  },
  {
   "cell_type": "markdown",
   "metadata": {},
   "source": [
    "## Completed DataFrame\n",
    "\n",
    "With a single call to the `locations_loop` function, we can return a completed DataFrame with all locations:"
   ]
  },
  {
   "cell_type": "code",
   "execution_count": 20,
   "metadata": {},
   "outputs": [
    {
     "name": "stdout",
     "output_type": "stream",
     "text": [
      "retrieving data for fi...\n",
      "API Response did not contain periods. Verify request parameters are correct.\n",
      "\n",
      "Request:\n",
      "https://api.aerisapi.com/conditions/fi?client_id=WSU4BzfSK3N2oqOHAsoic&client_secret=Yhckg91ZEaHIn5wZwhhz5puG7cFjWQbZSHdZsSMZ&fields=place.name%2Cplace.country%2Cperiods.tempF%2Cperiods.feelslikeF%2Cperiods.humidity\n",
      "\n",
      "Response:\n",
      "{'success': False, 'error': {'code': 'invalid_location', 'description': 'The requested location was not found.'}, 'response': []}\n",
      "retrieving data for helsinki, fi...\n"
     ]
    },
    {
     "data": {
      "text/html": [
       "<div>\n",
       "<style scoped>\n",
       "    .dataframe tbody tr th:only-of-type {\n",
       "        vertical-align: middle;\n",
       "    }\n",
       "\n",
       "    .dataframe tbody tr th {\n",
       "        vertical-align: top;\n",
       "    }\n",
       "\n",
       "    .dataframe thead th {\n",
       "        text-align: right;\n",
       "    }\n",
       "</style>\n",
       "<table border=\"1\" class=\"dataframe\">\n",
       "  <thead>\n",
       "    <tr style=\"text-align: right;\">\n",
       "      <th></th>\n",
       "      <th>place.name</th>\n",
       "      <th>place.country</th>\n",
       "      <th>periods.tempF</th>\n",
       "      <th>periods.feelslikeF</th>\n",
       "      <th>periods.humidity</th>\n",
       "    </tr>\n",
       "  </thead>\n",
       "  <tbody>\n",
       "    <tr>\n",
       "      <th>0</th>\n",
       "      <td>helsinki</td>\n",
       "      <td>fi</td>\n",
       "      <td>34.48</td>\n",
       "      <td>34.48</td>\n",
       "      <td>81</td>\n",
       "    </tr>\n",
       "  </tbody>\n",
       "</table>\n",
       "</div>"
      ],
      "text/plain": [
       "  place.name place.country  periods.tempF  periods.feelslikeF  \\\n",
       "0   helsinki            fi          34.48               34.48   \n",
       "\n",
       "   periods.humidity  \n",
       "0                81  "
      ]
     },
     "metadata": {},
     "output_type": "display_data"
    }
   ],
   "source": [
    "full_df = locations_loop(locations=location_list)\n",
    "display(full_df)"
   ]
  },
  {
   "cell_type": "markdown",
   "metadata": {},
   "source": [
    "## Next Steps\n",
    "\n",
    "One common use case we see with conditions is to generate a CSV. Here's a simple way to generate a csv with the built-in [pandas csv tool](https://pandas.pydata.org/docs/reference/api/pandas.DataFrame.to_csv.html). After running the following section, your csv will be located in the `./csv_output` directory:"
   ]
  },
  {
   "cell_type": "code",
   "execution_count": 26,
   "metadata": {},
   "outputs": [],
   "source": [
    "from datetime import datetime\n",
    "\n",
    "now = datetime.now()\n",
    "output_dir = Path('aeris_output')\n",
    "output_dir.mkdir(exist_ok=True)\n",
    "\n",
    "download_location = output_dir / f\"conditions-download-{now.strftime('%Y-%m-%dT%H:%M')}.csv\"\n",
    "full_df.to_csv(download_location, encoding=\"utf-8\")\n",
    "print('csv created!')"
   ]
  }
 ],
 "metadata": {
  "kernelspec": {
   "display_name": "Python 3 (ipykernel)",
   "language": "python",
   "name": "python3"
  },
  "language_info": {
   "codemirror_mode": {
    "name": "ipython",
    "version": 3
   },
   "file_extension": ".py",
   "mimetype": "text/x-python",
   "name": "python",
   "nbconvert_exporter": "python",
   "pygments_lexer": "ipython3",
   "version": "3.10.12"
  },
  "widgets": {
   "application/vnd.jupyter.widget-state+json": {
    "state": {},
    "version_major": 2,
    "version_minor": 0
   }
  }
 },
 "nbformat": 4,
 "nbformat_minor": 2
}
